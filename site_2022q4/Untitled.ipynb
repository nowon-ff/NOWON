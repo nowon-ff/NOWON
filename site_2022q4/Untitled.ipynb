{
 "cells": [
  {
   "cell_type": "code",
   "execution_count": 1,
   "id": "d933b17e-6283-4529-bce0-99d6816a03b3",
   "metadata": {},
   "outputs": [],
   "source": [
    "a = '''Olá, {{ user['nome'] }}!<br>\n",
    "Confira como foi o desempenho do Google Ads da conta {{ json_resp['conta_selecionada'] }} no dia {{ json_resp['data_atual'] }} em comparação com o dia {{ json_resp['data_antiga'] }}. <br>\n",
    "<br>\n",
    "No dia {{ json_resp['data_atual'] }}, a taxa de cliques (CTR). {{ json_resp['ctr']['condicao_ctr'] }} em {{ json_resp['ctr']['ctr_diff'] }} % em comparação com o {{ json_resp['data_antiga'] }}.<br>\n",
    "<br>\n",
    "A campanha {{ json_resp['cliques']['nome_campanha'] }}, {{ json_resp['cliques']['condicao_cliques'] }} de cliques em {{ json_resp['cliques']['cliques_diff'] }} %<br>\n",
    "{{ json_resp['data_atual'] }}, as conversões da {{ json_resp['cliques']['nome_campanha'] }} {{json_resp['conv']['condicao_conv']}} em {{json_resp['conv']['conv_diff_por']}} % em ({{json_resp['conv']['conv_diff_qtde']}}) em relação a {{ json_resp['data_antiga'] }}.<br>\n",
    "<br>\n",
    "Em {{ json_resp['data_atual'] }}, a quantidade de visualização do anúncio {{json_resp['imp']['condicao_imp']}} em {{json_resp['imp']['imp_diff_por']}} % ({{json_resp['imp']['imp_diff_qtde']}}) em comparação com {{ json_resp['data_antiga'] }}.<br>\n",
    "<br>\n",
    "Esse foi seu relatório diário.<br>\n",
    "<br>\n",
    "Qualquer dúvida, estamos à disposição.<br>\n",
    "<br>\n",
    "Atenciosamente,<br>\n",
    "Time NOWON.<br>'''"
   ]
  },
  {
   "cell_type": "code",
   "execution_count": 10,
   "id": "bf0559c8-0f83-410a-bb50-f178f8601385",
   "metadata": {},
   "outputs": [],
   "source": [
    "a = a.replace(\"<br>\",\"\\n\").replace(\"{{json_resp['conv']['conv_diff_por']}}\",\"{conv_diff_por}\").replace(\"{{ json_resp['cliques']['nome_campanha'] }}\",\"{nome_campanha}\")"
   ]
  },
  {
   "cell_type": "code",
   "execution_count": 11,
   "id": "99d47454-3847-4e14-a6d6-de23c02084f2",
   "metadata": {},
   "outputs": [
    {
     "data": {
      "text/plain": [
       "\"Olá, {{ user['nome'] }}!\\nConfira como foi o desempenho do Google Ads da conta {{ json_resp['conta_selecionada'] }} no dia {{ json_resp['data_atual'] }} em comparação com o dia {{ json_resp['data_antiga'] }}. \\n\\nNo dia {{ json_resp['data_atual'] }}, a taxa de cliques (CTR). {{ json_resp['ctr']['condicao_ctr'] }} em {{ json_resp['ctr']['ctr_diff'] }} % em comparação com o {{ json_resp['data_antiga'] }}.\\n\\nA campanha {nome_campanha}, {{ json_resp['cliques']['condicao_cliques'] }} de cliques em {{ json_resp['cliques']['cliques_diff'] }} %\\n{{ json_resp['data_atual'] }}, as conversões da {nome_campanha} {{json_resp['conv']['condicao_conv']}} em {conv_diff_por} % em ({{json_resp['conv']['conv_diff_qtde']}}) em relação a {{ json_resp['data_antiga'] }}.\\n\\nEm {{ json_resp['data_atual'] }}, a quantidade de visualização do anúncio {{json_resp['imp']['condicao_imp']}} em {{json_resp['imp']['imp_diff_por']}} % ({{json_resp['imp']['imp_diff_qtde']}}) em comparação com {{ json_resp['data_antiga'] }}.\\n\\nEsse foi seu relatório diário.\\n\\nQualquer dúvida, estamos à disposição.\\n\\nAtenciosamente,\\nTime NOWON.\""
      ]
     },
     "execution_count": 11,
     "metadata": {},
     "output_type": "execute_result"
    }
   ],
   "source": [
    "a"
   ]
  },
  {
   "cell_type": "code",
   "execution_count": null,
   "id": "5ed86959-9af1-4f31-beb4-cb07d2616e8d",
   "metadata": {},
   "outputs": [],
   "source": [
    "\"Olá, {'nome_usuario'}!\n",
    "Confira como foi o desempenho do Google Ads da conta {'conta_selecionada'} no dia {'data_atual'} em comparação com o dia {'data_antiga'}.\n",
    "\n",
    "No dia {'data_atual'}, a taxa de cliques (CTR). {'condicao_ctr'} em {'ctr_diferença'} % em comparação com o {'data_antiga'}.\n",
    "\n",
    "A campanha {nome_campanha}, {'condicao_cliques'} de cliques em {'cliques_diferença'} %\n",
    "{'data_atual'}, as conversões da {nome_campanha} {'condicao_conversao'} em {conv_diff_por} % em ({'conversao_diferença_qtde'}) em relação a {'data_antiga'}.\n",
    "\n",
    "Em {'data_atual'}, a quantidade de visualização do anúncio {'condicao_impressoes'} em {'impressoes_differença_porcentagem'} % ({'impressoes_diferença_qtde'}) em comparação com {'data_antiga'}.\n",
    "\n",
    "Esse foi seu relatório diário.\n",
    "\n",
    "Qualquer dúvida, estamos à disposição.\n",
    "\n",
    "Atenciosamente,\n",
    "Time NOWON.\""
   ]
  }
 ],
 "metadata": {
  "kernelspec": {
   "display_name": "Python 3 (ipykernel)",
   "language": "python",
   "name": "python3"
  },
  "language_info": {
   "codemirror_mode": {
    "name": "ipython",
    "version": 3
   },
   "file_extension": ".py",
   "mimetype": "text/x-python",
   "name": "python",
   "nbconvert_exporter": "python",
   "pygments_lexer": "ipython3",
   "version": "3.10.1"
  }
 },
 "nbformat": 4,
 "nbformat_minor": 5
}
