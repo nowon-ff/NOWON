{
 "cells": [
  {
   "cell_type": "code",
   "execution_count": 5,
   "id": "29e7e95d-64c1-4463-b879-eae61885dd98",
   "metadata": {},
   "outputs": [],
   "source": [
    "import json\n",
    "import pandas as pd\n",
    "from pprint import pprint"
   ]
  },
  {
   "cell_type": "code",
   "execution_count": 6,
   "id": "db1f9de4-1c48-41b1-8fbb-6b92a9ca5ecd",
   "metadata": {},
   "outputs": [],
   "source": [
    "retorno_ga = {'_state_google_DxN85tLivcp1sRBTUmJAub6PdhCa4p': {'data': {'redirect_uri': 'http://127.0.0.1:5000/authorize', 'url': 'https://accounts.google.com/o/oauth2/auth?response_type=code&client_id=1045049658322-qf2ifhcotdnatco1tqs2aosfkbmk3sab.apps.googleusercontent.com&redirect_uri=http%3A%2F%2F127.0.0.1%3A5000%2Fauthorize&scope=https%3A%2F%2Fwww.googleapis.com%2Fauth%2Fanalytics.readonly&state=DxN85tLivcp1sRBTUmJAub6PdhCa4p'}, 'exp': 1667343204.281059}, '_state_google_KmEvGLvlQrmVrqPvttAeTPHGWRqcnC': {'data': {'redirect_uri': 'http://127.0.0.1:5000/authorize', 'url': 'https://accounts.google.com/o/oauth2/auth?response_type=code&client_id=1045049658322-qf2ifhcotdnatco1tqs2aosfkbmk3sab.apps.googleusercontent.com&redirect_uri=http%3A%2F%2F127.0.0.1%3A5000%2Fauthorize&scope=https%3A%2F%2Fwww.googleapis.com%2Fauth%2Fanalytics.readonly&state=KmEvGLvlQrmVrqPvttAeTPHGWRqcnC'}, 'exp': 1667343245.3017206}, '_state_google_tygpfVjllBAeaYgec05L0WlSj5TDxl': {'data': {'redirect_uri': 'http://127.0.0.1:5000/authorize', 'url': 'https://accounts.google.com/o/oauth2/auth?response_type=code&client_id=1045049658322-qf2ifhcotdnatco1tqs2aosfkbmk3sab.apps.googleusercontent.com&redirect_uri=http%3A%2F%2F127.0.0.1%3A5000%2Fauthorize&scope=https%3A%2F%2Fwww.googleapis.com%2Fauth%2Fanalytics.readonly&state=tygpfVjllBAeaYgec05L0WlSj5TDxl'}, 'exp': 1667343186.6054149}}"
   ]
  },
  {
   "cell_type": "code",
   "execution_count": 8,
   "id": "3cb5cb57-2ee9-467d-99f2-2979287562d7",
   "metadata": {},
   "outputs": [
    {
     "name": "stdout",
     "output_type": "stream",
     "text": [
      "{'_state_google_DxN85tLivcp1sRBTUmJAub6PdhCa4p': {'data': {'redirect_uri': 'http://127.0.0.1:5000/authorize',\n",
      "                                                           'url': 'https://accounts.google.com/o/oauth2/auth?response_type=code&client_id=1045049658322-qf2ifhcotdnatco1tqs2aosfkbmk3sab.apps.googleusercontent.com&redirect_uri=http%3A%2F%2F127.0.0.1%3A5000%2Fauthorize&scope=https%3A%2F%2Fwww.googleapis.com%2Fauth%2Fanalytics.readonly&state=DxN85tLivcp1sRBTUmJAub6PdhCa4p'},\n",
      "                                                  'exp': 1667343204.281059},\n",
      " '_state_google_KmEvGLvlQrmVrqPvttAeTPHGWRqcnC': {'data': {'redirect_uri': 'http://127.0.0.1:5000/authorize',\n",
      "                                                           'url': 'https://accounts.google.com/o/oauth2/auth?response_type=code&client_id=1045049658322-qf2ifhcotdnatco1tqs2aosfkbmk3sab.apps.googleusercontent.com&redirect_uri=http%3A%2F%2F127.0.0.1%3A5000%2Fauthorize&scope=https%3A%2F%2Fwww.googleapis.com%2Fauth%2Fanalytics.readonly&state=KmEvGLvlQrmVrqPvttAeTPHGWRqcnC'},\n",
      "                                                  'exp': 1667343245.3017206},\n",
      " '_state_google_tygpfVjllBAeaYgec05L0WlSj5TDxl': {'data': {'redirect_uri': 'http://127.0.0.1:5000/authorize',\n",
      "                                                           'url': 'https://accounts.google.com/o/oauth2/auth?response_type=code&client_id=1045049658322-qf2ifhcotdnatco1tqs2aosfkbmk3sab.apps.googleusercontent.com&redirect_uri=http%3A%2F%2F127.0.0.1%3A5000%2Fauthorize&scope=https%3A%2F%2Fwww.googleapis.com%2Fauth%2Fanalytics.readonly&state=tygpfVjllBAeaYgec05L0WlSj5TDxl'},\n",
      "                                                  'exp': 1667343186.6054149}}\n"
     ]
    }
   ],
   "source": [
    "pprint(retorno_ga)"
   ]
  },
  {
   "cell_type": "code",
   "execution_count": null,
   "id": "6f9bc79e-ebbc-4a2c-8a10-be5927878883",
   "metadata": {},
   "outputs": [],
   "source": []
  }
 ],
 "metadata": {
  "kernelspec": {
   "display_name": "Python 3 (ipykernel)",
   "language": "python",
   "name": "python3"
  },
  "language_info": {
   "codemirror_mode": {
    "name": "ipython",
    "version": 3
   },
   "file_extension": ".py",
   "mimetype": "text/x-python",
   "name": "python",
   "nbconvert_exporter": "python",
   "pygments_lexer": "ipython3",
   "version": "3.10.1"
  }
 },
 "nbformat": 4,
 "nbformat_minor": 5
}
