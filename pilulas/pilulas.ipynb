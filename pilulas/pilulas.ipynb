{
 "cells": [
  {
   "cell_type": "code",
   "execution_count": 79,
   "id": "1c0930aa-a380-4227-b1a2-fbf983eed859",
   "metadata": {},
   "outputs": [],
   "source": [
    "import pandas as pd\n",
    "import random\n",
    "from datetime import date"
   ]
  },
  {
   "cell_type": "code",
   "execution_count": 10,
   "id": "81d18208-ad72-4b93-9364-4626711f4f80",
   "metadata": {},
   "outputs": [],
   "source": [
    "df = pd.read_csv(\"../nowon/data/google_ads.csv\")"
   ]
  },
  {
   "cell_type": "code",
   "execution_count": 29,
   "id": "31faa48d-6ae6-486e-8ad2-57b06bd1a441",
   "metadata": {},
   "outputs": [],
   "source": [
    "path = '../nowon/data/google_ads.csv'\n",
    "def criar_dataframe(path):\n",
    "    try:\n",
    "        df = pd.read_csv(path)\n",
    "        return df\n",
    "    except e:\n",
    "        print(e)\n",
    "df = criar_dataframe(path) #.head()"
   ]
  },
  {
   "cell_type": "code",
   "execution_count": 60,
   "id": "74663f48-6a1f-43ef-b4dc-18f14952291a",
   "metadata": {},
   "outputs": [
    {
     "data": {
      "text/html": [
       "<div>\n",
       "<style scoped>\n",
       "    .dataframe tbody tr th:only-of-type {\n",
       "        vertical-align: middle;\n",
       "    }\n",
       "\n",
       "    .dataframe tbody tr th {\n",
       "        vertical-align: top;\n",
       "    }\n",
       "\n",
       "    .dataframe thead th {\n",
       "        text-align: right;\n",
       "    }\n",
       "</style>\n",
       "<table border=\"1\" class=\"dataframe\">\n",
       "  <thead>\n",
       "    <tr style=\"text-align: right;\">\n",
       "      <th></th>\n",
       "      <th>nome_conta</th>\n",
       "      <th>Date</th>\n",
       "      <th>nome_campanha</th>\n",
       "      <th>tipo_rede_ad</th>\n",
       "      <th>impressoes</th>\n",
       "      <th>cliques</th>\n",
       "      <th>interacoes</th>\n",
       "      <th>conversoes</th>\n",
       "      <th>valor_conversoes</th>\n",
       "      <th>investido</th>\n",
       "    </tr>\n",
       "  </thead>\n",
       "  <tbody>\n",
       "    <tr>\n",
       "      <th>0</th>\n",
       "      <td>Intelbras - Controle de Acesso (A7B)</td>\n",
       "      <td>2022-12-06</td>\n",
       "      <td>[CONT-ACESS - EMP-CORP] CONVERSÕES (pmax) - Li...</td>\n",
       "      <td>MIXED</td>\n",
       "      <td>30175</td>\n",
       "      <td>4258</td>\n",
       "      <td>4258</td>\n",
       "      <td>416</td>\n",
       "      <td>416.5</td>\n",
       "      <td>4688.318930</td>\n",
       "    </tr>\n",
       "    <tr>\n",
       "      <th>1</th>\n",
       "      <td>Intelbras - Segurança (A7B)</td>\n",
       "      <td>2022-12-06</td>\n",
       "      <td>[SEG - TMR] Tráfego (Discovery) - Micro SD</td>\n",
       "      <td>MIXED</td>\n",
       "      <td>14339</td>\n",
       "      <td>119</td>\n",
       "      <td>2176</td>\n",
       "      <td>0</td>\n",
       "      <td>0.0</td>\n",
       "      <td>432.765643</td>\n",
       "    </tr>\n",
       "    <tr>\n",
       "      <th>2</th>\n",
       "      <td>Intelbras - Controle de Acesso (A7B)</td>\n",
       "      <td>2022-12-06</td>\n",
       "      <td>[CONT-ACESS - INC-ILU] TRÁFEGO (search) - Incê...</td>\n",
       "      <td>SEARCH</td>\n",
       "      <td>12376</td>\n",
       "      <td>663</td>\n",
       "      <td>663</td>\n",
       "      <td>25</td>\n",
       "      <td>25.5</td>\n",
       "      <td>913.325000</td>\n",
       "    </tr>\n",
       "    <tr>\n",
       "      <th>3</th>\n",
       "      <td>Intelbras - E-commerce (A7B)</td>\n",
       "      <td>2022-12-06</td>\n",
       "      <td>[ES - Off-Grid] Purchase (Search) - LSI 1600 (...</td>\n",
       "      <td>SEARCH</td>\n",
       "      <td>14</td>\n",
       "      <td>3</td>\n",
       "      <td>3</td>\n",
       "      <td>0</td>\n",
       "      <td>0.0</td>\n",
       "      <td>1.040000</td>\n",
       "    </tr>\n",
       "    <tr>\n",
       "      <th>4</th>\n",
       "      <td>Intelbras - Segurança (A7B)</td>\n",
       "      <td>2022-12-06</td>\n",
       "      <td>[SEG - TMR] Tráfego (Search) - BodyCam</td>\n",
       "      <td>SEARCH</td>\n",
       "      <td>4267</td>\n",
       "      <td>246</td>\n",
       "      <td>246</td>\n",
       "      <td>0</td>\n",
       "      <td>0.0</td>\n",
       "      <td>164.900000</td>\n",
       "    </tr>\n",
       "  </tbody>\n",
       "</table>\n",
       "</div>"
      ],
      "text/plain": [
       "                             nome_conta       Date  \\\n",
       "0  Intelbras - Controle de Acesso (A7B) 2022-12-06   \n",
       "1           Intelbras - Segurança (A7B) 2022-12-06   \n",
       "2  Intelbras - Controle de Acesso (A7B) 2022-12-06   \n",
       "3          Intelbras - E-commerce (A7B) 2022-12-06   \n",
       "4           Intelbras - Segurança (A7B) 2022-12-06   \n",
       "\n",
       "                                       nome_campanha tipo_rede_ad  impressoes  \\\n",
       "0  [CONT-ACESS - EMP-CORP] CONVERSÕES (pmax) - Li...        MIXED       30175   \n",
       "1         [SEG - TMR] Tráfego (Discovery) - Micro SD        MIXED       14339   \n",
       "2  [CONT-ACESS - INC-ILU] TRÁFEGO (search) - Incê...       SEARCH       12376   \n",
       "3  [ES - Off-Grid] Purchase (Search) - LSI 1600 (...       SEARCH          14   \n",
       "4             [SEG - TMR] Tráfego (Search) - BodyCam       SEARCH        4267   \n",
       "\n",
       "   cliques  interacoes  conversoes  valor_conversoes    investido  \n",
       "0     4258        4258         416             416.5  4688.318930  \n",
       "1      119        2176           0               0.0   432.765643  \n",
       "2      663         663          25              25.5   913.325000  \n",
       "3        3           3           0               0.0     1.040000  \n",
       "4      246         246           0               0.0   164.900000  "
      ]
     },
     "execution_count": 60,
     "metadata": {},
     "output_type": "execute_result"
    }
   ],
   "source": [
    "df.head()"
   ]
  },
  {
   "cell_type": "code",
   "execution_count": 75,
   "id": "9103a65a-429b-4be0-9d19-18818d22c2ca",
   "metadata": {},
   "outputs": [],
   "source": [
    "conta_selecionada = random.choice(df['nome_conta'])"
   ]
  },
  {
   "cell_type": "code",
   "execution_count": 77,
   "id": "7891fc43-0c37-4f44-812f-4fe915452526",
   "metadata": {},
   "outputs": [],
   "source": [
    "df_filtrado = df[df['nome_conta']==conta_selecionada]"
   ]
  },
  {
   "cell_type": "code",
   "execution_count": 99,
   "id": "37dcfa3a-a8de-478e-b423-e2f600d6808b",
   "metadata": {},
   "outputs": [],
   "source": [
    "date.today().day - 2\n",
    "data_atual = f'{date.today().year}-{date.today().month}-0{date.today().day - 2}'\n",
    "data_antiga = f'{date.today().year}-{date.today().month}-0{date.today().day - 3}'"
   ]
  },
  {
   "cell_type": "code",
   "execution_count": 109,
   "id": "8ff62f0c-45a5-406b-9ae1-3ffa55b31e87",
   "metadata": {},
   "outputs": [
    {
     "name": "stdout",
     "output_type": "stream",
     "text": [
      "0.015761104312144555 0.013721198539570703\n"
     ]
    }
   ],
   "source": [
    "df_atual = df_filtrado[df_filtrado['Date']==data_atual]\n",
    "obj_atual = df_atual[['impressoes','cliques','interacoes','conversoes','investido']].sum()\n",
    "\n",
    "ctr_atual = obj_atual.cliques / obj_atual.impressoes\n",
    "\n",
    "\n",
    "df_antigo = df_filtrado[df_filtrado['Date']==data_antiga]\n",
    "obj_antigo = df_antigo[['impressoes','cliques','interacoes','conversoes','investido']].sum()\n",
    "\n",
    "ctr_antigo = obj_antigo.cliques / obj_antigo.impressoes\n",
    "\n",
    "\n",
    "print(ctr_atual,ctr_antigo)"
   ]
  },
  {
   "cell_type": "code",
   "execution_count": 123,
   "id": "b8c08cc6-bdad-4900-801d-e488964db83a",
   "metadata": {},
   "outputs": [
    {
     "name": "stderr",
     "output_type": "stream",
     "text": [
      "C:\\Users\\lucas\\AppData\\Local\\Temp/ipykernel_54048/1419958202.py:1: FutureWarning: The default value of numeric_only in DataFrameGroupBy.sum is deprecated. In a future version, numeric_only will default to False. Either specify numeric_only or select only columns which should be valid for the function.\n",
      "  df_atual.groupby(by='nome_campanha').sum().sort_values(by='cliques',ascending=False).iloc[0].name\n"
     ]
    },
    {
     "data": {
      "text/plain": [
       "'[REDES - HOME-OFFICE] TRÁFEGO (search) - Wi-Force W5 1200 G'"
      ]
     },
     "execution_count": 123,
     "metadata": {},
     "output_type": "execute_result"
    }
   ],
   "source": [
    "df_atual.groupby(by='nome_campanha').sum().sort_values(by='cliques',ascending=False).iloc[0].name"
   ]
  },
  {
   "cell_type": "code",
   "execution_count": 127,
   "id": "1fc55ee0-c450-4fe5-9eb3-4ce955f79507",
   "metadata": {},
   "outputs": [
    {
     "data": {
      "text/plain": [
       "nome_conta                                    Intelbras - Redes (A7B)\n",
       "Date                                              2022-12-05 00:00:00\n",
       "nome_campanha       [REDES - HOME-OFFICE] TRÁFEGO (search) - Wi-Fo...\n",
       "tipo_rede_ad                                                   SEARCH\n",
       "impressoes                                                      12155\n",
       "cliques                                                           960\n",
       "interacoes                                                        960\n",
       "conversoes                                                         68\n",
       "valor_conversoes                                                 68.0\n",
       "investido                                                      357.17\n",
       "Name: 73, dtype: object"
      ]
     },
     "execution_count": 127,
     "metadata": {},
     "output_type": "execute_result"
    }
   ],
   "source": [
    "df_antigo[df_antigo['nome_campanha']=='[REDES - HOME-OFFICE] TRÁFEGO (search) - Wi-Force W5 1200 G'].iloc[0]"
   ]
  },
  {
   "cell_type": "code",
   "execution_count": 69,
   "id": "7e48ec31-9d78-4379-a3d0-e75b478e4789",
   "metadata": {},
   "outputs": [
    {
     "data": {
      "text/plain": [
       "nome_conta                  object\n",
       "Date                datetime64[ns]\n",
       "nome_campanha               object\n",
       "tipo_rede_ad                object\n",
       "impressoes                   int32\n",
       "cliques                      int32\n",
       "interacoes                   int32\n",
       "conversoes                   int32\n",
       "valor_conversoes           float64\n",
       "investido                  float64\n",
       "dtype: object"
      ]
     },
     "execution_count": 69,
     "metadata": {},
     "output_type": "execute_result"
    }
   ],
   "source": [
    "df.dtypes"
   ]
  },
  {
   "cell_type": "code",
   "execution_count": 70,
   "id": "69480816-72a9-4944-bea4-3873c856a143",
   "metadata": {},
   "outputs": [
    {
     "data": {
      "text/html": [
       "<div>\n",
       "<style scoped>\n",
       "    .dataframe tbody tr th:only-of-type {\n",
       "        vertical-align: middle;\n",
       "    }\n",
       "\n",
       "    .dataframe tbody tr th {\n",
       "        vertical-align: top;\n",
       "    }\n",
       "\n",
       "    .dataframe thead th {\n",
       "        text-align: right;\n",
       "    }\n",
       "</style>\n",
       "<table border=\"1\" class=\"dataframe\">\n",
       "  <thead>\n",
       "    <tr style=\"text-align: right;\">\n",
       "      <th></th>\n",
       "      <th>nome_conta</th>\n",
       "      <th>Date</th>\n",
       "      <th>nome_campanha</th>\n",
       "      <th>tipo_rede_ad</th>\n",
       "      <th>impressoes</th>\n",
       "      <th>cliques</th>\n",
       "      <th>interacoes</th>\n",
       "      <th>conversoes</th>\n",
       "      <th>valor_conversoes</th>\n",
       "      <th>investido</th>\n",
       "    </tr>\n",
       "  </thead>\n",
       "  <tbody>\n",
       "    <tr>\n",
       "      <th>0</th>\n",
       "      <td>Intelbras - Controle de Acesso (A7B)</td>\n",
       "      <td>2022-12-06</td>\n",
       "      <td>[CONT-ACESS - EMP-CORP] CONVERSÕES (pmax) - Li...</td>\n",
       "      <td>MIXED</td>\n",
       "      <td>30175</td>\n",
       "      <td>4258</td>\n",
       "      <td>4258</td>\n",
       "      <td>416</td>\n",
       "      <td>416.5</td>\n",
       "      <td>4688.318930</td>\n",
       "    </tr>\n",
       "    <tr>\n",
       "      <th>1</th>\n",
       "      <td>Intelbras - Segurança (A7B)</td>\n",
       "      <td>2022-12-06</td>\n",
       "      <td>[SEG - TMR] Tráfego (Discovery) - Micro SD</td>\n",
       "      <td>MIXED</td>\n",
       "      <td>14339</td>\n",
       "      <td>119</td>\n",
       "      <td>2176</td>\n",
       "      <td>0</td>\n",
       "      <td>0.0</td>\n",
       "      <td>432.765643</td>\n",
       "    </tr>\n",
       "    <tr>\n",
       "      <th>2</th>\n",
       "      <td>Intelbras - Controle de Acesso (A7B)</td>\n",
       "      <td>2022-12-06</td>\n",
       "      <td>[CONT-ACESS - INC-ILU] TRÁFEGO (search) - Incê...</td>\n",
       "      <td>SEARCH</td>\n",
       "      <td>12376</td>\n",
       "      <td>663</td>\n",
       "      <td>663</td>\n",
       "      <td>25</td>\n",
       "      <td>25.5</td>\n",
       "      <td>913.325000</td>\n",
       "    </tr>\n",
       "    <tr>\n",
       "      <th>3</th>\n",
       "      <td>Intelbras - E-commerce (A7B)</td>\n",
       "      <td>2022-12-06</td>\n",
       "      <td>[ES - Off-Grid] Purchase (Search) - LSI 1600 (...</td>\n",
       "      <td>SEARCH</td>\n",
       "      <td>14</td>\n",
       "      <td>3</td>\n",
       "      <td>3</td>\n",
       "      <td>0</td>\n",
       "      <td>0.0</td>\n",
       "      <td>1.040000</td>\n",
       "    </tr>\n",
       "    <tr>\n",
       "      <th>4</th>\n",
       "      <td>Intelbras - Segurança (A7B)</td>\n",
       "      <td>2022-12-06</td>\n",
       "      <td>[SEG - TMR] Tráfego (Search) - BodyCam</td>\n",
       "      <td>SEARCH</td>\n",
       "      <td>4267</td>\n",
       "      <td>246</td>\n",
       "      <td>246</td>\n",
       "      <td>0</td>\n",
       "      <td>0.0</td>\n",
       "      <td>164.900000</td>\n",
       "    </tr>\n",
       "  </tbody>\n",
       "</table>\n",
       "</div>"
      ],
      "text/plain": [
       "                             nome_conta       Date  \\\n",
       "0  Intelbras - Controle de Acesso (A7B) 2022-12-06   \n",
       "1           Intelbras - Segurança (A7B) 2022-12-06   \n",
       "2  Intelbras - Controle de Acesso (A7B) 2022-12-06   \n",
       "3          Intelbras - E-commerce (A7B) 2022-12-06   \n",
       "4           Intelbras - Segurança (A7B) 2022-12-06   \n",
       "\n",
       "                                       nome_campanha tipo_rede_ad  impressoes  \\\n",
       "0  [CONT-ACESS - EMP-CORP] CONVERSÕES (pmax) - Li...        MIXED       30175   \n",
       "1         [SEG - TMR] Tráfego (Discovery) - Micro SD        MIXED       14339   \n",
       "2  [CONT-ACESS - INC-ILU] TRÁFEGO (search) - Incê...       SEARCH       12376   \n",
       "3  [ES - Off-Grid] Purchase (Search) - LSI 1600 (...       SEARCH          14   \n",
       "4             [SEG - TMR] Tráfego (Search) - BodyCam       SEARCH        4267   \n",
       "\n",
       "   cliques  interacoes  conversoes  valor_conversoes    investido  \n",
       "0     4258        4258         416             416.5  4688.318930  \n",
       "1      119        2176           0               0.0   432.765643  \n",
       "2      663         663          25              25.5   913.325000  \n",
       "3        3           3           0               0.0     1.040000  \n",
       "4      246         246           0               0.0   164.900000  "
      ]
     },
     "execution_count": 70,
     "metadata": {},
     "output_type": "execute_result"
    }
   ],
   "source": [
    "df.head()"
   ]
  },
  {
   "cell_type": "code",
   "execution_count": 13,
   "id": "4a52bb5d-f325-4a9d-a34d-fff525886cc0",
   "metadata": {},
   "outputs": [
    {
     "ename": "NameError",
     "evalue": "name 'nome_usuario' is not defined",
     "output_type": "error",
     "traceback": [
      "\u001b[1;31m---------------------------------------------------------------------------\u001b[0m",
      "\u001b[1;31mNameError\u001b[0m                                 Traceback (most recent call last)",
      "\u001b[1;32m~\\AppData\\Local\\Temp/ipykernel_54048/4270350410.py\u001b[0m in \u001b[0;36m<module>\u001b[1;34m\u001b[0m\n\u001b[1;32m----> 1\u001b[1;33m texto_diario = f\"\"\"Olá, {nome_usuario}!\n\u001b[0m\u001b[0;32m      2\u001b[0m \u001b[0mConfira\u001b[0m \u001b[0mcomo\u001b[0m \u001b[0mfoi\u001b[0m \u001b[0mo\u001b[0m \u001b[0mdesempenho\u001b[0m \u001b[0mdo\u001b[0m \u001b[0mGoogle\u001b[0m \u001b[0mAds\u001b[0m \u001b[0mda\u001b[0m \u001b[1;33m{\u001b[0m\u001b[0mnome_unidade\u001b[0m\u001b[1;33m}\u001b[0m \u001b[0mno\u001b[0m \u001b[0mdia\u001b[0m \u001b[1;33m{\u001b[0m\u001b[0mdata_atual\u001b[0m\u001b[1;33m}\u001b[0m \u001b[0mem\u001b[0m \u001b[0mcomparação\u001b[0m \u001b[0mcom\u001b[0m \u001b[0mo\u001b[0m \u001b[0mdia\u001b[0m \u001b[1;33m{\u001b[0m\u001b[0mdata_antiga_comparar\u001b[0m\u001b[1;33m}\u001b[0m\u001b[1;33m.\u001b[0m\u001b[1;33m\u001b[0m\u001b[1;33m\u001b[0m\u001b[0m\n\u001b[0;32m      3\u001b[0m \u001b[1;33m\u001b[0m\u001b[0m\n\u001b[0;32m      4\u001b[0m \u001b[1;33m{\u001b[0m\u001b[0mdata_atual\u001b[0m\u001b[1;33m}\u001b[0m\u001b[1;33m,\u001b[0m \u001b[0ma\u001b[0m \u001b[0mtaxa\u001b[0m \u001b[0mde\u001b[0m \u001b[0mcliques\u001b[0m \u001b[1;33m(\u001b[0m\u001b[0mCTR\u001b[0m\u001b[1;33m)\u001b[0m\u001b[1;33m.\u001b[0m \u001b[0mAumentou\u001b[0m \u001b[0mem\u001b[0m \u001b[1;33m{\u001b[0m\u001b[0mnúmero_porcentagem\u001b[0m\u001b[1;33m}\u001b[0m \u001b[1;33m%\u001b[0m \u001b[1;33m(\u001b[0m\u001b[1;33m{\u001b[0m\u001b[0mnumero_bruto\u001b[0m\u001b[1;33m}\u001b[0m\u001b[1;33m)\u001b[0m \u001b[0mem\u001b[0m \u001b[0mcomparação\u001b[0m \u001b[0mcom\u001b[0m \u001b[0mo\u001b[0m \u001b[1;33m{\u001b[0m\u001b[0mdata_antiga_comparar\u001b[0m\u001b[1;33m}\u001b[0m\u001b[1;33m.\u001b[0m\u001b[1;33m\u001b[0m\u001b[1;33m\u001b[0m\u001b[0m\n\u001b[0;32m      5\u001b[0m \u001b[1;33m\u001b[0m\u001b[0m\n",
      "\u001b[1;31mNameError\u001b[0m: name 'nome_usuario' is not defined"
     ]
    }
   ],
   "source": [
    "texto_diario = f\"\"\"Olá, {nome_usuario}!\n",
    "Confira como foi o desempenho do Google Ads da {nome_unidade} no dia {data_atual} em comparação com o dia {data_antiga_comparar}. \n",
    "\n",
    "{data_atual}, a taxa de cliques (CTR). Aumentou em {número_porcentagem} % ({numero_bruto}) em comparação com o {data_antiga_comparar}.\n",
    "\n",
    "A campanha {nome_campanha}, {nome_metrica_SIPA_CLICK} aumentou em {numero_porcentagem} %\n",
    "{data_atual}, os cliques da {nome_campanha} aumentaram em {numero_porcentagem}% ({numero_bruto}) em relação a {data_antiga_comparar}.\n",
    "\n",
    "{data_atual}, a quantidade de visualização do anúncio diminuiu em {mumero_porcentagem} % ({numero_bruto}) em comparação com {data_antiga_comparar}.\n",
    "\n",
    "Esse foi seu relatório diário.\n",
    "\n",
    "Qualquer dúvida, estamos à disposição.\n",
    "\n",
    "Atenciosamente,\n",
    "\n",
    "Time NOWON.\"\"\""
   ]
  },
  {
   "cell_type": "code",
   "execution_count": 2,
   "id": "adaacee5-2f7e-47b1-b3d1-e7fc82f31af1",
   "metadata": {},
   "outputs": [],
   "source": [
    "texto_semanal = \"\"\"Olá, [nome da pessoa]!\n",
    "Chegou o seu relatório semanal NOWON!\n",
    "Confira como foi o desempenho do seu site/ sua página durante a semana de [dia] a [dia] de [mês] de 202… em comparação a [dia] a [dia] de [mês] de 202…\n",
    "\n",
    "Durante a semana de [dia] a [dia] de [mês] de 202…, a taxa de [nome da métrica] aumentou em [número]% (número) em comparação com a semana de [dia] a [dia] de [mês] de 202… (número).\n",
    "\n",
    "Durante a semana de [dia] a [dia] de [mês] de 202…, a taxa de [nome da métrica] diminuiu em [número]% (número) em comparação com a semana de [dia] a [dia] de [mês] de 202… (número).\n",
    "\n",
    "Esse foi o seu relatório semanal de performance da NOWON.\n",
    "Continue assim, você está fazendo um ótimo trabalho! \n",
    "\n",
    "Qualquer dúvida, estamos à disposição.\n",
    "\n",
    "Atenciosamente,\n",
    "Time NOWON.\n",
    "\"\"\""
   ]
  },
  {
   "cell_type": "code",
   "execution_count": null,
   "id": "22e7e8df-15dd-4e85-91af-cf366ee40d4d",
   "metadata": {},
   "outputs": [],
   "source": [
    "texto_mensal = \"\"\"Olá, [nome da pessoa]!\n",
    "Chegou o seu relatório mensal NOWON!\n",
    "Confira como foi o desempenho do seu site/ sua página durante o mês [mês] de 202… em comparação ao mês de [mês] de 202…\n",
    "\n",
    "Parabéns, você conseguiu atingir suas metas para o mês de [mês] e obteve ótimos resultados. Continue assim! \n",
    "\n",
    "Infelizmente, no mês de [mês], seus resultados não tiveram um significativo aumento. Mas, não desanime! A NOWON está aqui para ajudá-lo a atingir as suas metas. Let’s keep on the hard work!\n",
    "\n",
    "Tem alguma dúvida sobre o seu relatório mensal? Não hesite em nos contactar.\n",
    "\n",
    "Atenciosamente,\n",
    "Time NOWON.\"\"\""
   ]
  }
 ],
 "metadata": {
  "kernelspec": {
   "display_name": "Python 3 (ipykernel)",
   "language": "python",
   "name": "python3"
  },
  "language_info": {
   "codemirror_mode": {
    "name": "ipython",
    "version": 3
   },
   "file_extension": ".py",
   "mimetype": "text/x-python",
   "name": "python",
   "nbconvert_exporter": "python",
   "pygments_lexer": "ipython3",
   "version": "3.10.1"
  }
 },
 "nbformat": 4,
 "nbformat_minor": 5
}
